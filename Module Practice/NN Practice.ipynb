{
 "cells": [
  {
   "cell_type": "code",
   "execution_count": 1,
   "metadata": {},
   "outputs": [],
   "source": [
    "# Import our dependencies\n",
    "import pandas as pd\n",
    "import matplotlib as plt\n",
    "from sklearn.datasets import make_blobs\n",
    "import sklearn as skl\n",
    "import tensorflow as tf"
   ]
  },
  {
   "cell_type": "code",
   "execution_count": 2,
   "metadata": {},
   "outputs": [
    {
     "data": {
      "text/plain": [
       "<matplotlib.axes._subplots.AxesSubplot at 0x1cfb8bc57c8>"
      ]
     },
     "execution_count": 2,
     "metadata": {},
     "output_type": "execute_result"
    },
    {
     "data": {
      "image/png": "[encoded data removed]",
      "text/plain": [
       "<Figure size 432x288 with 2 Axes>"
      ]
     },
     "metadata": {
      "needs_background": "light"
     },
     "output_type": "display_data"
    }
   ],
   "source": [
    "# Generate dummy dataset\n",
    "X, y = make_blobs(n_samples=1000, centers=2, n_features=2, random_state=78)\n",
    "\n",
    "# Creating a DataFrame with the dummy data\n",
    "df = pd.DataFrame(X, columns=[\"Feature 1\", \"Feature 2\"])\n",
    "df[\"Target\"] = y\n",
    "\n",
    "# Plotting the dummy data\n",
    "df.plot.scatter(x=\"Feature 1\", y=\"Feature 2\", c=\"Target\", colormap=\"winter\")"
   ]
  },
  {
   "cell_type": "code",
   "execution_count": 3,
   "metadata": {},
   "outputs": [],
   "source": [
    "# Use sklearn to split dataset\n",
    "from sklearn.model_selection import train_test_split\n",
    "X_train, X_test, y_train, y_test = train_test_split(X, y, random_state=78)"
   ]
  },
  {
   "cell_type": "code",
   "execution_count": 4,
   "metadata": {},
   "outputs": [],
   "source": [
    "# Create scaler instance\n",
    "X_scaler = skl.preprocessing.StandardScaler()\n",
    "\n",
    "# Fit the scaler\n",
    "X_scaler.fit(X_train)\n",
    "\n",
    "# Scale the data\n",
    "X_train_scaled = X_scaler.transform(X_train)\n",
    "X_test_scaled = X_scaler.transform(X_test)"
   ]
  },
  {
   "cell_type": "code",
   "execution_count": 5,
   "metadata": {},
   "outputs": [],
   "source": [
    "# Create the Keras Sequential model\n",
    "nn_model = tf.keras.models.Sequential()"
   ]
  },
  {
   "cell_type": "code",
   "execution_count": 6,
   "metadata": {},
   "outputs": [],
   "source": [
    "# Add our first Dense layer, including the input layer\n",
    "nn_model.add(tf.keras.layers.Dense(units=1, activation=\"relu\", input_dim=2))"
   ]
  },
  {
   "cell_type": "code",
   "execution_count": 7,
   "metadata": {},
   "outputs": [],
   "source": [
    "# Add the output layer that uses a probability activation function\n",
    "nn_model.add(tf.keras.layers.Dense(units=1, activation=\"sigmoid\"))"
   ]
  },
  {
   "cell_type": "code",
   "execution_count": 8,
   "metadata": {},
   "outputs": [
    {
     "name": "stdout",
     "output_type": "stream",
     "text": [
      "Model: \"sequential\"\n",
      "_________________________________________________________________\n",
      "Layer (type)                 Output Shape              Param #   \n",
      "=================================================================\n",
      "dense (Dense)                (None, 1)                 3         \n",
      "_________________________________________________________________\n",
      "dense_1 (Dense)              (None, 1)                 2         \n",
      "=================================================================\n",
      "Total params: 5\n",
      "Trainable params: 5\n",
      "Non-trainable params: 0\n",
      "_________________________________________________________________\n"
     ]
    }
   ],
   "source": [
    "# Check the structure of the Sequential model\n",
    "nn_model.summary()"
   ]
  },
  {
   "cell_type": "code",
   "execution_count": 9,
   "metadata": {},
   "outputs": [],
   "source": [
    "# Compile the Sequential model together and customize metrics\n",
    "nn_model.compile(loss=\"binary_crossentropy\", optimizer=\"adam\", metrics=[\"accuracy\"])"
   ]
  },
  {
   "cell_type": "code",
   "execution_count": 10,
   "metadata": {},
   "outputs": [
    {
     "name": "stdout",
     "output_type": "stream",
     "text": [
      "Train on 750 samples\n",
      "Epoch 1/100\n",
      "750/750 [==============================] - 0s 660us/sample - loss: 0.6974 - accuracy: 0.4653\n",
      "Epoch 2/100\n",
      "750/750 [==============================] - 0s 43us/sample - loss: 0.6946 - accuracy: 0.4867\n",
      "Epoch 3/100\n",
      "750/750 [==============================] - 0s 41us/sample - loss: 0.6921 - accuracy: 0.5147\n",
      "Epoch 4/100\n",
      "750/750 [==============================] - 0s 44us/sample - loss: 0.6898 - accuracy: 0.5413\n",
      "Epoch 5/100\n",
      "750/750 [==============================] - 0s 43us/sample - loss: 0.6873 - accuracy: 0.5653\n",
      "Epoch 6/100\n",
      "750/750 [==============================] - 0s 45us/sample - loss: 0.6845 - accuracy: 0.5933\n",
      "Epoch 7/100\n",
      "750/750 [==============================] - 0s 47us/sample - loss: 0.6810 - accuracy: 0.6147\n",
      "Epoch 8/100\n",
      "750/750 [==============================] - 0s 45us/sample - loss: 0.6767 - accuracy: 0.6320\n",
      "Epoch 9/100\n",
      "750/750 [==============================] - 0s 45us/sample - loss: 0.6715 - accuracy: 0.6467\n",
      "Epoch 10/100\n",
      "750/750 [==============================] - 0s 45us/sample - loss: 0.6651 - accuracy: 0.6720\n",
      "Epoch 11/100\n",
      "750/750 [==============================] - 0s 49us/sample - loss: 0.6578 - accuracy: 0.6853\n",
      "Epoch 12/100\n",
      "750/750 [==============================] - 0s 47us/sample - loss: 0.6494 - accuracy: 0.7093\n",
      "Epoch 13/100\n",
      "750/750 [==============================] - 0s 45us/sample - loss: 0.6399 - accuracy: 0.7293\n",
      "Epoch 14/100\n",
      "750/750 [==============================] - 0s 44us/sample - loss: 0.6290 - accuracy: 0.7493\n",
      "Epoch 15/100\n",
      "750/750 [==============================] - 0s 61us/sample - loss: 0.6175 - accuracy: 0.7627\n",
      "Epoch 16/100\n",
      "750/750 [==============================] - 0s 48us/sample - loss: 0.6054 - accuracy: 0.7840\n",
      "Epoch 17/100\n",
      "750/750 [==============================] - 0s 45us/sample - loss: 0.5928 - accuracy: 0.7947\n",
      "Epoch 18/100\n",
      "750/750 [==============================] - 0s 48us/sample - loss: 0.5797 - accuracy: 0.8027\n",
      "Epoch 19/100\n",
      "750/750 [==============================] - 0s 51us/sample - loss: 0.5666 - accuracy: 0.8187\n",
      "Epoch 20/100\n",
      "750/750 [==============================] - 0s 45us/sample - loss: 0.5534 - accuracy: 0.8307\n",
      "Epoch 21/100\n",
      "750/750 [==============================] - 0s 41us/sample - loss: 0.5403 - accuracy: 0.8427\n",
      "Epoch 22/100\n",
      "750/750 [==============================] - 0s 45us/sample - loss: 0.5272 - accuracy: 0.8547\n",
      "Epoch 23/100\n",
      "750/750 [==============================] - 0s 45us/sample - loss: 0.5143 - accuracy: 0.8547\n",
      "Epoch 24/100\n",
      "750/750 [==============================] - 0s 44us/sample - loss: 0.5014 - accuracy: 0.8653\n",
      "Epoch 25/100\n",
      "750/750 [==============================] - 0s 47us/sample - loss: 0.4889 - accuracy: 0.8707\n",
      "Epoch 26/100\n",
      "750/750 [==============================] - 0s 52us/sample - loss: 0.4766 - accuracy: 0.8840\n",
      "Epoch 27/100\n",
      "750/750 [==============================] - 0s 45us/sample - loss: 0.4648 - accuracy: 0.8920\n",
      "Epoch 28/100\n",
      "750/750 [==============================] - 0s 45us/sample - loss: 0.4533 - accuracy: 0.8960\n",
      "Epoch 29/100\n",
      "750/750 [==============================] - 0s 48us/sample - loss: 0.4420 - accuracy: 0.9040\n",
      "Epoch 30/100\n",
      "750/750 [==============================] - 0s 41us/sample - loss: 0.4312 - accuracy: 0.9093\n",
      "Epoch 31/100\n",
      "750/750 [==============================] - 0s 45us/sample - loss: 0.4205 - accuracy: 0.9120\n",
      "Epoch 32/100\n",
      "750/750 [==============================] - 0s 41us/sample - loss: 0.4104 - accuracy: 0.9133\n",
      "Epoch 33/100\n",
      "750/750 [==============================] - 0s 49us/sample - loss: 0.4005 - accuracy: 0.9160\n",
      "Epoch 34/100\n",
      "750/750 [==============================] - 0s 45us/sample - loss: 0.3907 - accuracy: 0.9187\n",
      "Epoch 35/100\n",
      "750/750 [==============================] - 0s 53us/sample - loss: 0.3813 - accuracy: 0.9200\n",
      "Epoch 36/100\n",
      "750/750 [==============================] - 0s 51us/sample - loss: 0.3721 - accuracy: 0.9253\n",
      "Epoch 37/100\n",
      "750/750 [==============================] - 0s 45us/sample - loss: 0.3631 - accuracy: 0.9267\n",
      "Epoch 38/100\n",
      "750/750 [==============================] - 0s 48us/sample - loss: 0.3543 - accuracy: 0.9333\n",
      "Epoch 39/100\n",
      "750/750 [==============================] - 0s 44us/sample - loss: 0.3458 - accuracy: 0.9360\n",
      "Epoch 40/100\n",
      "750/750 [==============================] - 0s 47us/sample - loss: 0.3376 - accuracy: 0.9400\n",
      "Epoch 41/100\n",
      "750/750 [==============================] - 0s 43us/sample - loss: 0.3296 - accuracy: 0.9413\n",
      "Epoch 42/100\n",
      "750/750 [==============================] - 0s 43us/sample - loss: 0.3219 - accuracy: 0.9440\n",
      "Epoch 43/100\n",
      "750/750 [==============================] - 0s 48us/sample - loss: 0.3144 - accuracy: 0.9480\n",
      "Epoch 44/100\n",
      "750/750 [==============================] - 0s 48us/sample - loss: 0.3071 - accuracy: 0.9547\n",
      "Epoch 45/100\n",
      "750/750 [==============================] - 0s 48us/sample - loss: 0.3000 - accuracy: 0.9573\n",
      "Epoch 46/100\n",
      "750/750 [==============================] - 0s 53us/sample - loss: 0.2931 - accuracy: 0.9600\n",
      "Epoch 47/100\n",
      "750/750 [==============================] - 0s 48us/sample - loss: 0.2864 - accuracy: 0.9613\n",
      "Epoch 48/100\n",
      "750/750 [==============================] - 0s 50us/sample - loss: 0.2799 - accuracy: 0.9627\n",
      "Epoch 49/100\n",
      "750/750 [==============================] - 0s 47us/sample - loss: 0.2735 - accuracy: 0.9640\n",
      "Epoch 50/100\n",
      "750/750 [==============================] - 0s 48us/sample - loss: 0.2673 - accuracy: 0.9640\n",
      "Epoch 51/100\n",
      "750/750 [==============================] - 0s 41us/sample - loss: 0.2614 - accuracy: 0.9680\n",
      "Epoch 52/100\n",
      "750/750 [==============================] - 0s 48us/sample - loss: 0.2556 - accuracy: 0.9680\n",
      "Epoch 53/100\n",
      "750/750 [==============================] - 0s 49us/sample - loss: 0.2499 - accuracy: 0.9707\n",
      "Epoch 54/100\n",
      "750/750 [==============================] - 0s 48us/sample - loss: 0.2444 - accuracy: 0.9720\n",
      "Epoch 55/100\n",
      "750/750 [==============================] - 0s 56us/sample - loss: 0.2389 - accuracy: 0.9733\n",
      "Epoch 56/100\n",
      "750/750 [==============================] - 0s 45us/sample - loss: 0.2334 - accuracy: 0.9747\n",
      "Epoch 57/100\n",
      "750/750 [==============================] - 0s 45us/sample - loss: 0.2282 - accuracy: 0.9760\n",
      "Epoch 58/100\n",
      "750/750 [==============================] - 0s 43us/sample - loss: 0.2231 - accuracy: 0.9760\n",
      "Epoch 59/100\n",
      "750/750 [==============================] - 0s 44us/sample - loss: 0.2180 - accuracy: 0.9760\n",
      "Epoch 60/100\n",
      "750/750 [==============================] - 0s 45us/sample - loss: 0.2132 - accuracy: 0.9787\n",
      "Epoch 61/100\n",
      "750/750 [==============================] - 0s 39us/sample - loss: 0.2084 - accuracy: 0.9800\n",
      "Epoch 62/100\n",
      "750/750 [==============================] - 0s 43us/sample - loss: 0.2038 - accuracy: 0.9827\n",
      "Epoch 63/100\n",
      "750/750 [==============================] - 0s 45us/sample - loss: 0.1992 - accuracy: 0.9827\n",
      "Epoch 64/100\n",
      "750/750 [==============================] - 0s 45us/sample - loss: 0.1948 - accuracy: 0.9840\n",
      "Epoch 65/100\n",
      "750/750 [==============================] - 0s 39us/sample - loss: 0.1904 - accuracy: 0.9840\n",
      "Epoch 66/100\n",
      "750/750 [==============================] - 0s 44us/sample - loss: 0.1862 - accuracy: 0.9840\n",
      "Epoch 67/100\n",
      "750/750 [==============================] - 0s 39us/sample - loss: 0.1821 - accuracy: 0.9853\n",
      "Epoch 68/100\n",
      "750/750 [==============================] - 0s 44us/sample - loss: 0.1781 - accuracy: 0.9853\n",
      "Epoch 69/100\n",
      "750/750 [==============================] - 0s 41us/sample - loss: 0.1742 - accuracy: 0.9853\n",
      "Epoch 70/100\n",
      "750/750 [==============================] - 0s 44us/sample - loss: 0.1705 - accuracy: 0.9853\n",
      "Epoch 71/100\n",
      "750/750 [==============================] - 0s 41us/sample - loss: 0.1668 - accuracy: 0.9867\n",
      "Epoch 72/100\n",
      "750/750 [==============================] - 0s 47us/sample - loss: 0.1632 - accuracy: 0.9867\n",
      "Epoch 73/100\n",
      "750/750 [==============================] - 0s 40us/sample - loss: 0.1597 - accuracy: 0.9867\n",
      "Epoch 74/100\n",
      "750/750 [==============================] - 0s 45us/sample - loss: 0.1563 - accuracy: 0.9867\n",
      "Epoch 75/100\n",
      "750/750 [==============================] - 0s 47us/sample - loss: 0.1530 - accuracy: 0.9880\n",
      "Epoch 76/100\n",
      "750/750 [==============================] - 0s 43us/sample - loss: 0.1498 - accuracy: 0.9880\n",
      "Epoch 77/100\n",
      "750/750 [==============================] - 0s 43us/sample - loss: 0.1466 - accuracy: 0.9880\n",
      "Epoch 78/100\n"
     ]
    },
    {
     "name": "stdout",
     "output_type": "stream",
     "text": [
      "750/750 [==============================] - 0s 41us/sample - loss: 0.1436 - accuracy: 0.9880\n",
      "Epoch 79/100\n",
      "750/750 [==============================] - 0s 43us/sample - loss: 0.1406 - accuracy: 0.9880\n",
      "Epoch 80/100\n",
      "750/750 [==============================] - 0s 41us/sample - loss: 0.1377 - accuracy: 0.9907\n",
      "Epoch 81/100\n",
      "750/750 [==============================] - 0s 40us/sample - loss: 0.1349 - accuracy: 0.9907\n",
      "Epoch 82/100\n",
      "750/750 [==============================] - 0s 41us/sample - loss: 0.1322 - accuracy: 0.9920\n",
      "Epoch 83/100\n",
      "750/750 [==============================] - 0s 41us/sample - loss: 0.1295 - accuracy: 0.9933\n",
      "Epoch 84/100\n",
      "750/750 [==============================] - 0s 39us/sample - loss: 0.1269 - accuracy: 0.9933\n",
      "Epoch 85/100\n",
      "750/750 [==============================] - 0s 47us/sample - loss: 0.1244 - accuracy: 0.9947\n",
      "Epoch 86/100\n",
      "750/750 [==============================] - 0s 45us/sample - loss: 0.1219 - accuracy: 0.9947\n",
      "Epoch 87/100\n",
      "750/750 [==============================] - 0s 44us/sample - loss: 0.1194 - accuracy: 0.9947\n",
      "Epoch 88/100\n",
      "750/750 [==============================] - 0s 37us/sample - loss: 0.1171 - accuracy: 0.9960\n",
      "Epoch 89/100\n",
      "750/750 [==============================] - 0s 39us/sample - loss: 0.1148 - accuracy: 0.9960\n",
      "Epoch 90/100\n",
      "750/750 [==============================] - 0s 40us/sample - loss: 0.1126 - accuracy: 0.9960\n",
      "Epoch 91/100\n",
      "750/750 [==============================] - 0s 39us/sample - loss: 0.1105 - accuracy: 0.9973\n",
      "Epoch 92/100\n",
      "750/750 [==============================] - 0s 43us/sample - loss: 0.1083 - accuracy: 0.9973\n",
      "Epoch 93/100\n",
      "750/750 [==============================] - 0s 41us/sample - loss: 0.1063 - accuracy: 0.9973\n",
      "Epoch 94/100\n",
      "750/750 [==============================] - 0s 43us/sample - loss: 0.1043 - accuracy: 0.9973\n",
      "Epoch 95/100\n",
      "750/750 [==============================] - 0s 40us/sample - loss: 0.1024 - accuracy: 0.9973\n",
      "Epoch 96/100\n",
      "750/750 [==============================] - 0s 41us/sample - loss: 0.1004 - accuracy: 0.9987\n",
      "Epoch 97/100\n",
      "750/750 [==============================] - 0s 41us/sample - loss: 0.0986 - accuracy: 0.9987\n",
      "Epoch 98/100\n",
      "750/750 [==============================] - 0s 40us/sample - loss: 0.0968 - accuracy: 0.9987\n",
      "Epoch 99/100\n",
      "750/750 [==============================] - 0s 39us/sample - loss: 0.0950 - accuracy: 1.0000\n",
      "Epoch 100/100\n",
      "750/750 [==============================] - 0s 36us/sample - loss: 0.0933 - accuracy: 1.0000\n"
     ]
    }
   ],
   "source": [
    "# Fit the model to the training data\n",
    "fit_model = nn_model.fit(X_train_scaled, y_train, epochs=100)"
   ]
  },
  {
   "cell_type": "code",
   "execution_count": 11,
   "metadata": {},
   "outputs": [
    {
     "data": {
      "text/plain": [
       "<matplotlib.axes._subplots.AxesSubplot at 0x1cfba9d21c8>"
      ]
     },
     "execution_count": 11,
     "metadata": {},
     "output_type": "execute_result"
    },
    {
     "data": {
      "image/png": "[encoded data removed]",
      "text/plain": [
       "<Figure size 432x288 with 1 Axes>"
      ]
     },
     "metadata": {
      "needs_background": "light"
     },
     "output_type": "display_data"
    }
   ],
   "source": [
    "# Create a DataFrame containing training history\n",
    "history_df = pd.DataFrame(fit_model.history, index=range(1,len(fit_model.history[\"loss\"])+1))\n",
    "\n",
    "# Plot the loss\n",
    "history_df.plot(y=\"loss\")"
   ]
  },
  {
   "cell_type": "code",
   "execution_count": 12,
   "metadata": {},
   "outputs": [
    {
     "data": {
      "text/plain": [
       "<matplotlib.axes._subplots.AxesSubplot at 0x1cfbaa54348>"
      ]
     },
     "execution_count": 12,
     "metadata": {},
     "output_type": "execute_result"
    },
    {
     "data": {
      "image/png": "[encoded data removed]",
      "text/plain": [
       "<Figure size 432x288 with 1 Axes>"
      ]
     },
     "metadata": {
      "needs_background": "light"
     },
     "output_type": "display_data"
    }
   ],
   "source": [
    "# Plot the accuracy\n",
    "history_df.plot(y=\"accuracy\")"
   ]
  },
  {
   "cell_type": "code",
   "execution_count": 13,
   "metadata": {},
   "outputs": [
    {
     "name": "stdout",
     "output_type": "stream",
     "text": [
      "250/250 - 0s - loss: 0.0863 - accuracy: 1.0000\n",
      "Loss: 0.08625655096769333, Accuracy: 1.0\n"
     ]
    }
   ],
   "source": [
    "# Evaluate the model using the test data\n",
    "model_loss, model_accuracy = nn_model.evaluate(X_test_scaled,y_test,verbose=2)\n",
    "print(f\"Loss: {model_loss}, Accuracy: {model_accuracy}\")"
   ]
  },
  {
   "cell_type": "code",
   "execution_count": 14,
   "metadata": {},
   "outputs": [
    {
     "data": {
      "text/plain": [
       "array([[0],\n",
       "       [1],\n",
       "       [0],\n",
       "       [1],\n",
       "       [0],\n",
       "       [0],\n",
       "       [1],\n",
       "       [1],\n",
       "       [1],\n",
       "       [0]])"
      ]
     },
     "execution_count": 14,
     "metadata": {},
     "output_type": "execute_result"
    }
   ],
   "source": [
    "# Predict the classification of a new set of blob data\n",
    "new_X, new_Y = make_blobs(n_samples=10, centers=2, n_features=2, random_state=78)\n",
    "\n",
    "nn_model.predict_classes(new_X)"
   ]
  },
  {
   "cell_type": "code",
   "execution_count": 15,
   "metadata": {},
   "outputs": [
    {
     "data": {
      "text/plain": [
       "<matplotlib.axes._subplots.AxesSubplot at 0x1cfbabf6ac8>"
      ]
     },
     "execution_count": 15,
     "metadata": {},
     "output_type": "execute_result"
    },
    {
     "data": {
      "image/png": "[encoded data removed]",
      "text/plain": [
       "<Figure size 432x288 with 2 Axes>"
      ]
     },
     "metadata": {
      "needs_background": "light"
     },
     "output_type": "display_data"
    }
   ],
   "source": [
    "from sklearn.datasets import make_moons\n",
    "\n",
    "# Creating dummy nonlinear data\n",
    "X_moons, y_moons = make_moons(n_samples=1000, noise=0.08, random_state=78)\n",
    "\n",
    "# Transforming y_moons to a vertical vector\n",
    "y_moons = y_moons.reshape(-1, 1)\n",
    "\n",
    "# Creating a DataFrame to plot the nonlinear dummy data\n",
    "df_moons = pd.DataFrame(X_moons, columns=[\"Feature 1\", \"Feature 2\"])\n",
    "df_moons[\"Target\"] = y_moons\n",
    "\n",
    "# Plot the nonlinear dummy data\n",
    "df_moons.plot.scatter(x=\"Feature 1\",y=\"Feature 2\", c=\"Target\",colormap=\"winter\")"
   ]
  },
  {
   "cell_type": "code",
   "execution_count": 16,
   "metadata": {},
   "outputs": [],
   "source": [
    "# Create training and testing sets\n",
    "X_moon_train, X_moon_test, y_moon_train, y_moon_test = train_test_split(\n",
    "    X_moons, y_moons, random_state=78\n",
    ")\n",
    "\n",
    "# Create the scaler instance\n",
    "X_moon_scaler = skl.preprocessing.StandardScaler()\n",
    "\n",
    "# Fit the scaler\n",
    "X_moon_scaler.fit(X_moon_train)\n",
    "\n",
    "# Scale the data\n",
    "X_moon_train_scaled = X_moon_scaler.transform(X_moon_train)\n",
    "X_moon_test_scaled = X_moon_scaler.transform(X_moon_test)"
   ]
  },
  {
   "cell_type": "code",
   "execution_count": 17,
   "metadata": {},
   "outputs": [
    {
     "name": "stdout",
     "output_type": "stream",
     "text": [
      "Train on 750 samples\n",
      "Epoch 1/100\n",
      "750/750 [==============================] - 0s 318us/sample - loss: 1.2938 - accuracy: 0.3787\n",
      "Epoch 2/100\n",
      "750/750 [==============================] - 0s 43us/sample - loss: 1.1203 - accuracy: 0.3987\n",
      "Epoch 3/100\n",
      "750/750 [==============================] - 0s 47us/sample - loss: 1.0115 - accuracy: 0.4253\n",
      "Epoch 4/100\n",
      "750/750 [==============================] - 0s 44us/sample - loss: 0.9417 - accuracy: 0.4453\n",
      "Epoch 5/100\n",
      "750/750 [==============================] - 0s 40us/sample - loss: 0.8902 - accuracy: 0.4747\n",
      "Epoch 6/100\n",
      "750/750 [==============================] - 0s 45us/sample - loss: 0.8503 - accuracy: 0.4840\n",
      "Epoch 7/100\n",
      "750/750 [==============================] - 0s 47us/sample - loss: 0.8180 - accuracy: 0.5067\n",
      "Epoch 8/100\n",
      "750/750 [==============================] - 0s 45us/sample - loss: 0.7907 - accuracy: 0.5213\n",
      "Epoch 9/100\n",
      "750/750 [==============================] - 0s 45us/sample - loss: 0.7667 - accuracy: 0.5347\n",
      "Epoch 10/100\n",
      "750/750 [==============================] - 0s 44us/sample - loss: 0.7455 - accuracy: 0.5520\n",
      "Epoch 11/100\n",
      "750/750 [==============================] - 0s 45us/sample - loss: 0.7264 - accuracy: 0.5653\n",
      "Epoch 12/100\n",
      "750/750 [==============================] - 0s 49us/sample - loss: 0.7085 - accuracy: 0.5720\n",
      "Epoch 13/100\n",
      "750/750 [==============================] - 0s 45us/sample - loss: 0.6922 - accuracy: 0.5893\n",
      "Epoch 14/100\n",
      "750/750 [==============================] - 0s 45us/sample - loss: 0.6771 - accuracy: 0.6000\n",
      "Epoch 15/100\n",
      "750/750 [==============================] - 0s 44us/sample - loss: 0.6633 - accuracy: 0.6080\n",
      "Epoch 16/100\n",
      "750/750 [==============================] - 0s 47us/sample - loss: 0.6504 - accuracy: 0.6173\n",
      "Epoch 17/100\n",
      "750/750 [==============================] - 0s 45us/sample - loss: 0.6383 - accuracy: 0.6227\n",
      "Epoch 18/100\n",
      "750/750 [==============================] - 0s 41us/sample - loss: 0.6266 - accuracy: 0.6307\n",
      "Epoch 19/100\n",
      "750/750 [==============================] - 0s 43us/sample - loss: 0.6157 - accuracy: 0.6360\n",
      "Epoch 20/100\n",
      "750/750 [==============================] - 0s 43us/sample - loss: 0.6054 - accuracy: 0.6400\n",
      "Epoch 21/100\n",
      "750/750 [==============================] - 0s 43us/sample - loss: 0.5955 - accuracy: 0.6440\n",
      "Epoch 22/100\n",
      "750/750 [==============================] - 0s 44us/sample - loss: 0.5862 - accuracy: 0.6480\n",
      "Epoch 23/100\n",
      "750/750 [==============================] - 0s 41us/sample - loss: 0.5770 - accuracy: 0.6507\n",
      "Epoch 24/100\n",
      "750/750 [==============================] - 0s 55us/sample - loss: 0.5680 - accuracy: 0.6547\n",
      "Epoch 25/100\n",
      "750/750 [==============================] - 0s 55us/sample - loss: 0.5594 - accuracy: 0.6627\n",
      "Epoch 26/100\n",
      "750/750 [==============================] - 0s 45us/sample - loss: 0.5507 - accuracy: 0.6693\n",
      "Epoch 27/100\n",
      "750/750 [==============================] - 0s 45us/sample - loss: 0.5426 - accuracy: 0.6733\n",
      "Epoch 28/100\n",
      "750/750 [==============================] - 0s 45us/sample - loss: 0.5342 - accuracy: 0.6853\n",
      "Epoch 29/100\n",
      "750/750 [==============================] - 0s 45us/sample - loss: 0.5266 - accuracy: 0.6920\n",
      "Epoch 30/100\n",
      "750/750 [==============================] - 0s 51us/sample - loss: 0.5191 - accuracy: 0.6960\n",
      "Epoch 31/100\n",
      "750/750 [==============================] - 0s 45us/sample - loss: 0.5117 - accuracy: 0.6973\n",
      "Epoch 32/100\n",
      "750/750 [==============================] - 0s 59us/sample - loss: 0.5047 - accuracy: 0.7040\n",
      "Epoch 33/100\n",
      "750/750 [==============================] - 0s 47us/sample - loss: 0.4978 - accuracy: 0.7040\n",
      "Epoch 34/100\n",
      "750/750 [==============================] - 0s 49us/sample - loss: 0.4910 - accuracy: 0.7093\n",
      "Epoch 35/100\n",
      "750/750 [==============================] - 0s 45us/sample - loss: 0.4845 - accuracy: 0.7160\n",
      "Epoch 36/100\n",
      "750/750 [==============================] - 0s 45us/sample - loss: 0.4781 - accuracy: 0.7280\n",
      "Epoch 37/100\n",
      "750/750 [==============================] - 0s 44us/sample - loss: 0.4717 - accuracy: 0.7307\n",
      "Epoch 38/100\n",
      "750/750 [==============================] - 0s 48us/sample - loss: 0.4656 - accuracy: 0.7360\n",
      "Epoch 39/100\n",
      "750/750 [==============================] - 0s 48us/sample - loss: 0.4597 - accuracy: 0.7427\n",
      "Epoch 40/100\n",
      "750/750 [==============================] - 0s 48us/sample - loss: 0.4539 - accuracy: 0.7453\n",
      "Epoch 41/100\n",
      "750/750 [==============================] - 0s 51us/sample - loss: 0.4481 - accuracy: 0.7480\n",
      "Epoch 42/100\n",
      "750/750 [==============================] - 0s 49us/sample - loss: 0.4427 - accuracy: 0.7547\n",
      "Epoch 43/100\n",
      "750/750 [==============================] - 0s 51us/sample - loss: 0.4371 - accuracy: 0.7573\n",
      "Epoch 44/100\n",
      "750/750 [==============================] - 0s 53us/sample - loss: 0.4320 - accuracy: 0.7600\n",
      "Epoch 45/100\n",
      "750/750 [==============================] - 0s 56us/sample - loss: 0.4266 - accuracy: 0.7627\n",
      "Epoch 46/100\n",
      "750/750 [==============================] - 0s 57us/sample - loss: 0.4216 - accuracy: 0.7707\n",
      "Epoch 47/100\n",
      "750/750 [==============================] - 0s 61us/sample - loss: 0.4165 - accuracy: 0.7787\n",
      "Epoch 48/100\n",
      "750/750 [==============================] - 0s 65us/sample - loss: 0.4115 - accuracy: 0.7787\n",
      "Epoch 49/100\n",
      "750/750 [==============================] - 0s 49us/sample - loss: 0.4067 - accuracy: 0.7827\n",
      "Epoch 50/100\n",
      "750/750 [==============================] - 0s 57us/sample - loss: 0.4019 - accuracy: 0.7840\n",
      "Epoch 51/100\n",
      "750/750 [==============================] - 0s 49us/sample - loss: 0.3972 - accuracy: 0.7867\n",
      "Epoch 52/100\n",
      "750/750 [==============================] - 0s 53us/sample - loss: 0.3927 - accuracy: 0.7907\n",
      "Epoch 53/100\n",
      "750/750 [==============================] - 0s 43us/sample - loss: 0.3881 - accuracy: 0.7960\n",
      "Epoch 54/100\n",
      "750/750 [==============================] - 0s 47us/sample - loss: 0.3837 - accuracy: 0.7973\n",
      "Epoch 55/100\n",
      "750/750 [==============================] - 0s 43us/sample - loss: 0.3794 - accuracy: 0.7987\n",
      "Epoch 56/100\n",
      "750/750 [==============================] - 0s 47us/sample - loss: 0.3751 - accuracy: 0.7987\n",
      "Epoch 57/100\n",
      "750/750 [==============================] - 0s 63us/sample - loss: 0.3709 - accuracy: 0.8013\n",
      "Epoch 58/100\n",
      "750/750 [==============================] - 0s 57us/sample - loss: 0.3668 - accuracy: 0.8080\n",
      "Epoch 59/100\n",
      "750/750 [==============================] - 0s 57us/sample - loss: 0.3628 - accuracy: 0.8107\n",
      "Epoch 60/100\n",
      "750/750 [==============================] - 0s 60us/sample - loss: 0.3588 - accuracy: 0.8187\n",
      "Epoch 61/100\n",
      "750/750 [==============================] - 0s 59us/sample - loss: 0.3551 - accuracy: 0.8200\n",
      "Epoch 62/100\n",
      "750/750 [==============================] - 0s 56us/sample - loss: 0.3513 - accuracy: 0.8227\n",
      "Epoch 63/100\n",
      "750/750 [==============================] - 0s 53us/sample - loss: 0.3478 - accuracy: 0.8240\n",
      "Epoch 64/100\n",
      "750/750 [==============================] - 0s 59us/sample - loss: 0.3445 - accuracy: 0.8333\n",
      "Epoch 65/100\n",
      "750/750 [==============================] - 0s 64us/sample - loss: 0.3412 - accuracy: 0.8373\n",
      "Epoch 66/100\n",
      "750/750 [==============================] - 0s 51us/sample - loss: 0.3382 - accuracy: 0.8400\n",
      "Epoch 67/100\n",
      "750/750 [==============================] - 0s 44us/sample - loss: 0.3352 - accuracy: 0.8427\n",
      "Epoch 68/100\n",
      "750/750 [==============================] - 0s 47us/sample - loss: 0.3323 - accuracy: 0.8413\n",
      "Epoch 69/100\n",
      "750/750 [==============================] - 0s 41us/sample - loss: 0.3296 - accuracy: 0.8480\n",
      "Epoch 70/100\n",
      "750/750 [==============================] - 0s 40us/sample - loss: 0.3270 - accuracy: 0.8507\n",
      "Epoch 71/100\n",
      "750/750 [==============================] - 0s 44us/sample - loss: 0.3246 - accuracy: 0.8547\n",
      "Epoch 72/100\n",
      "750/750 [==============================] - 0s 43us/sample - loss: 0.3222 - accuracy: 0.8573\n",
      "Epoch 73/100\n",
      "750/750 [==============================] - 0s 45us/sample - loss: 0.3199 - accuracy: 0.8600\n",
      "Epoch 74/100\n",
      "750/750 [==============================] - 0s 44us/sample - loss: 0.3177 - accuracy: 0.8627\n",
      "Epoch 75/100\n",
      "750/750 [==============================] - 0s 39us/sample - loss: 0.3155 - accuracy: 0.8640\n",
      "Epoch 76/100\n",
      "750/750 [==============================] - 0s 48us/sample - loss: 0.3135 - accuracy: 0.8640\n",
      "Epoch 77/100\n",
      "750/750 [==============================] - 0s 37us/sample - loss: 0.3116 - accuracy: 0.8653\n",
      "Epoch 78/100\n"
     ]
    },
    {
     "name": "stdout",
     "output_type": "stream",
     "text": [
      "750/750 [==============================] - 0s 44us/sample - loss: 0.3097 - accuracy: 0.8680\n",
      "Epoch 79/100\n",
      "750/750 [==============================] - 0s 36us/sample - loss: 0.3079 - accuracy: 0.8680\n",
      "Epoch 80/100\n",
      "750/750 [==============================] - 0s 40us/sample - loss: 0.3062 - accuracy: 0.8680\n",
      "Epoch 81/100\n",
      "750/750 [==============================] - 0s 40us/sample - loss: 0.3045 - accuracy: 0.8693\n",
      "Epoch 82/100\n",
      "750/750 [==============================] - 0s 37us/sample - loss: 0.3029 - accuracy: 0.8693\n",
      "Epoch 83/100\n",
      "750/750 [==============================] - 0s 40us/sample - loss: 0.3013 - accuracy: 0.8693\n",
      "Epoch 84/100\n",
      "750/750 [==============================] - 0s 39us/sample - loss: 0.2999 - accuracy: 0.8693\n",
      "Epoch 85/100\n",
      "750/750 [==============================] - 0s 39us/sample - loss: 0.2984 - accuracy: 0.8720\n",
      "Epoch 86/100\n",
      "750/750 [==============================] - 0s 37us/sample - loss: 0.2970 - accuracy: 0.8720\n",
      "Epoch 87/100\n",
      "750/750 [==============================] - 0s 37us/sample - loss: 0.2957 - accuracy: 0.8733\n",
      "Epoch 88/100\n",
      "750/750 [==============================] - 0s 44us/sample - loss: 0.2945 - accuracy: 0.8733\n",
      "Epoch 89/100\n",
      "750/750 [==============================] - 0s 40us/sample - loss: 0.2932 - accuracy: 0.8733\n",
      "Epoch 90/100\n",
      "750/750 [==============================] - 0s 40us/sample - loss: 0.2920 - accuracy: 0.8733\n",
      "Epoch 91/100\n",
      "750/750 [==============================] - 0s 39us/sample - loss: 0.2908 - accuracy: 0.8733\n",
      "Epoch 92/100\n",
      "750/750 [==============================] - 0s 40us/sample - loss: 0.2897 - accuracy: 0.8733\n",
      "Epoch 93/100\n",
      "750/750 [==============================] - 0s 40us/sample - loss: 0.2886 - accuracy: 0.8733\n",
      "Epoch 94/100\n",
      "750/750 [==============================] - 0s 40us/sample - loss: 0.2875 - accuracy: 0.8733\n",
      "Epoch 95/100\n",
      "750/750 [==============================] - 0s 39us/sample - loss: 0.2865 - accuracy: 0.8760\n",
      "Epoch 96/100\n",
      "750/750 [==============================] - 0s 40us/sample - loss: 0.2856 - accuracy: 0.8787\n",
      "Epoch 97/100\n",
      "750/750 [==============================] - 0s 39us/sample - loss: 0.2845 - accuracy: 0.8800\n",
      "Epoch 98/100\n",
      "750/750 [==============================] - 0s 37us/sample - loss: 0.2836 - accuracy: 0.8800\n",
      "Epoch 99/100\n",
      "750/750 [==============================] - 0s 40us/sample - loss: 0.2826 - accuracy: 0.8813\n",
      "Epoch 100/100\n",
      "750/750 [==============================] - 0s 47us/sample - loss: 0.2817 - accuracy: 0.8813\n"
     ]
    }
   ],
   "source": [
    "# Training the model with the nonlinear data\n",
    "model_moon = nn_model.fit(X_moon_train_scaled, y_moon_train, epochs=100, shuffle=True)"
   ]
  },
  {
   "cell_type": "code",
   "execution_count": 18,
   "metadata": {},
   "outputs": [
    {
     "data": {
      "text/plain": [
       "<matplotlib.axes._subplots.AxesSubplot at 0x1cfbaf853c8>"
      ]
     },
     "execution_count": 18,
     "metadata": {},
     "output_type": "execute_result"
    },
    {
     "data": {
      "image/png": "[encoded data removed]",
      "text/plain": [
       "<Figure size 432x288 with 1 Axes>"
      ]
     },
     "metadata": {
      "needs_background": "light"
     },
     "output_type": "display_data"
    }
   ],
   "source": [
    "# Create a DataFrame containing training history\n",
    "history_df = pd.DataFrame(model_moon.history, index=range(1,len(model_moon.history[\"loss\"])+1))\n",
    "\n",
    "# Plot the loss\n",
    "history_df.plot(y=\"loss\")"
   ]
  },
  {
   "cell_type": "code",
   "execution_count": 19,
   "metadata": {},
   "outputs": [
    {
     "data": {
      "text/plain": [
       "<matplotlib.axes._subplots.AxesSubplot at 0x1cfbb1f0c88>"
      ]
     },
     "execution_count": 19,
     "metadata": {},
     "output_type": "execute_result"
    },
    {
     "data": {
      "image/png": "[encoded data removed]",
      "text/plain": [
       "<Figure size 432x288 with 1 Axes>"
      ]
     },
     "metadata": {
      "needs_background": "light"
     },
     "output_type": "display_data"
    }
   ],
   "source": [
    "# Plot the loss\n",
    "history_df.plot(y=\"accuracy\")"
   ]
  },
  {
   "cell_type": "code",
   "execution_count": 20,
   "metadata": {},
   "outputs": [],
   "source": [
    "# Generate our new Sequential model\n",
    "new_model = tf.keras.models.Sequential()"
   ]
  },
  {
   "cell_type": "code",
   "execution_count": 21,
   "metadata": {},
   "outputs": [],
   "source": [
    "# Add the input and hidden layer\n",
    "number_inputs = 2\n",
    "number_hidden_nodes = 6\n",
    "\n",
    "new_model.add(tf.keras.layers.Dense(units=number_hidden_nodes, activation=\"relu\", input_dim=number_inputs))\n",
    "\n",
    "# Add the output layer that uses a probability activation function\n",
    "new_model.add(tf.keras.layers.Dense(units=1, activation=\"sigmoid\"))"
   ]
  },
  {
   "cell_type": "code",
   "execution_count": 22,
   "metadata": {},
   "outputs": [
    {
     "name": "stdout",
     "output_type": "stream",
     "text": [
      "Train on 750 samples\n",
      "Epoch 1/100\n",
      "750/750 [==============================] - 0s 521us/sample - loss: 0.6706 - accuracy: 0.6040\n",
      "Epoch 2/100\n",
      "750/750 [==============================] - 0s 39us/sample - loss: 0.6415 - accuracy: 0.6333\n",
      "Epoch 3/100\n",
      "750/750 [==============================] - 0s 44us/sample - loss: 0.6178 - accuracy: 0.6640\n",
      "Epoch 4/100\n",
      "750/750 [==============================] - 0s 43us/sample - loss: 0.5986 - accuracy: 0.6947\n",
      "Epoch 5/100\n",
      "750/750 [==============================] - 0s 40us/sample - loss: 0.5823 - accuracy: 0.7160\n",
      "Epoch 6/100\n",
      "750/750 [==============================] - 0s 45us/sample - loss: 0.5678 - accuracy: 0.7280\n",
      "Epoch 7/100\n",
      "750/750 [==============================] - 0s 47us/sample - loss: 0.5549 - accuracy: 0.7467\n",
      "Epoch 8/100\n",
      "750/750 [==============================] - 0s 43us/sample - loss: 0.5435 - accuracy: 0.7600\n",
      "Epoch 9/100\n",
      "750/750 [==============================] - 0s 47us/sample - loss: 0.5331 - accuracy: 0.7653\n",
      "Epoch 10/100\n",
      "750/750 [==============================] - 0s 43us/sample - loss: 0.5234 - accuracy: 0.7747\n",
      "Epoch 11/100\n",
      "750/750 [==============================] - 0s 43us/sample - loss: 0.5135 - accuracy: 0.7800\n",
      "Epoch 12/100\n",
      "750/750 [==============================] - 0s 41us/sample - loss: 0.5037 - accuracy: 0.7827\n",
      "Epoch 13/100\n",
      "750/750 [==============================] - 0s 47us/sample - loss: 0.4938 - accuracy: 0.7893\n",
      "Epoch 14/100\n",
      "750/750 [==============================] - 0s 51us/sample - loss: 0.4837 - accuracy: 0.7907\n",
      "Epoch 15/100\n",
      "750/750 [==============================] - 0s 47us/sample - loss: 0.4737 - accuracy: 0.7947\n",
      "Epoch 16/100\n",
      "750/750 [==============================] - 0s 45us/sample - loss: 0.4636 - accuracy: 0.8013\n",
      "Epoch 17/100\n",
      "750/750 [==============================] - 0s 45us/sample - loss: 0.4535 - accuracy: 0.8080\n",
      "Epoch 18/100\n",
      "750/750 [==============================] - 0s 63us/sample - loss: 0.4431 - accuracy: 0.8107\n",
      "Epoch 19/100\n",
      "750/750 [==============================] - 0s 50us/sample - loss: 0.4327 - accuracy: 0.8147\n",
      "Epoch 20/100\n",
      "750/750 [==============================] - 0s 43us/sample - loss: 0.4224 - accuracy: 0.8173\n",
      "Epoch 21/100\n",
      "750/750 [==============================] - 0s 43us/sample - loss: 0.4123 - accuracy: 0.8200\n",
      "Epoch 22/100\n",
      "750/750 [==============================] - 0s 44us/sample - loss: 0.4022 - accuracy: 0.8253\n",
      "Epoch 23/100\n",
      "750/750 [==============================] - 0s 44us/sample - loss: 0.3925 - accuracy: 0.8320\n",
      "Epoch 24/100\n",
      "750/750 [==============================] - 0s 52us/sample - loss: 0.3830 - accuracy: 0.8333\n",
      "Epoch 25/100\n",
      "750/750 [==============================] - 0s 59us/sample - loss: 0.3742 - accuracy: 0.8360\n",
      "Epoch 26/100\n",
      "750/750 [==============================] - 0s 48us/sample - loss: 0.3658 - accuracy: 0.8387\n",
      "Epoch 27/100\n",
      "750/750 [==============================] - 0s 48us/sample - loss: 0.3579 - accuracy: 0.8400\n",
      "Epoch 28/100\n",
      "750/750 [==============================] - 0s 43us/sample - loss: 0.3505 - accuracy: 0.8440\n",
      "Epoch 29/100\n",
      "750/750 [==============================] - 0s 45us/sample - loss: 0.3435 - accuracy: 0.8493\n",
      "Epoch 30/100\n",
      "750/750 [==============================] - 0s 45us/sample - loss: 0.3369 - accuracy: 0.8493\n",
      "Epoch 31/100\n",
      "750/750 [==============================] - 0s 45us/sample - loss: 0.3306 - accuracy: 0.8507\n",
      "Epoch 32/100\n",
      "750/750 [==============================] - 0s 47us/sample - loss: 0.3247 - accuracy: 0.8507\n",
      "Epoch 33/100\n",
      "750/750 [==============================] - 0s 44us/sample - loss: 0.3191 - accuracy: 0.8587\n",
      "Epoch 34/100\n",
      "750/750 [==============================] - 0s 45us/sample - loss: 0.3143 - accuracy: 0.8600\n",
      "Epoch 35/100\n",
      "750/750 [==============================] - 0s 51us/sample - loss: 0.3096 - accuracy: 0.8613\n",
      "Epoch 36/100\n",
      "750/750 [==============================] - 0s 47us/sample - loss: 0.3054 - accuracy: 0.8653\n",
      "Epoch 37/100\n",
      "750/750 [==============================] - 0s 43us/sample - loss: 0.3013 - accuracy: 0.8667\n",
      "Epoch 38/100\n",
      "750/750 [==============================] - 0s 43us/sample - loss: 0.2976 - accuracy: 0.8693\n",
      "Epoch 39/100\n",
      "750/750 [==============================] - 0s 49us/sample - loss: 0.2943 - accuracy: 0.8693\n",
      "Epoch 40/100\n",
      "750/750 [==============================] - 0s 51us/sample - loss: 0.2910 - accuracy: 0.8693\n",
      "Epoch 41/100\n",
      "750/750 [==============================] - 0s 52us/sample - loss: 0.2880 - accuracy: 0.8733\n",
      "Epoch 42/100\n",
      "750/750 [==============================] - 0s 55us/sample - loss: 0.2854 - accuracy: 0.8773\n",
      "Epoch 43/100\n",
      "750/750 [==============================] - 0s 56us/sample - loss: 0.2828 - accuracy: 0.8773\n",
      "Epoch 44/100\n",
      "750/750 [==============================] - 0s 64us/sample - loss: 0.2804 - accuracy: 0.8787\n",
      "Epoch 45/100\n",
      "750/750 [==============================] - 0s 66us/sample - loss: 0.2782 - accuracy: 0.8800\n",
      "Epoch 46/100\n",
      "750/750 [==============================] - 0s 61us/sample - loss: 0.2763 - accuracy: 0.8800\n",
      "Epoch 47/100\n",
      "750/750 [==============================] - 0s 52us/sample - loss: 0.2742 - accuracy: 0.8787\n",
      "Epoch 48/100\n",
      "750/750 [==============================] - 0s 47us/sample - loss: 0.2723 - accuracy: 0.8773\n",
      "Epoch 49/100\n",
      "750/750 [==============================] - 0s 48us/sample - loss: 0.2706 - accuracy: 0.8787\n",
      "Epoch 50/100\n",
      "750/750 [==============================] - 0s 48us/sample - loss: 0.2689 - accuracy: 0.8800\n",
      "Epoch 51/100\n",
      "750/750 [==============================] - 0s 53us/sample - loss: 0.2675 - accuracy: 0.8827\n",
      "Epoch 52/100\n",
      "750/750 [==============================] - 0s 44us/sample - loss: 0.2658 - accuracy: 0.8813\n",
      "Epoch 53/100\n",
      "750/750 [==============================] - 0s 49us/sample - loss: 0.2644 - accuracy: 0.8827\n",
      "Epoch 54/100\n",
      "750/750 [==============================] - 0s 59us/sample - loss: 0.2630 - accuracy: 0.8853\n",
      "Epoch 55/100\n",
      "750/750 [==============================] - 0s 47us/sample - loss: 0.2621 - accuracy: 0.8840\n",
      "Epoch 56/100\n",
      "750/750 [==============================] - 0s 48us/sample - loss: 0.2604 - accuracy: 0.8880\n",
      "Epoch 57/100\n",
      "750/750 [==============================] - 0s 48us/sample - loss: 0.2592 - accuracy: 0.8893\n",
      "Epoch 58/100\n",
      "750/750 [==============================] - 0s 39us/sample - loss: 0.2580 - accuracy: 0.8893\n",
      "Epoch 59/100\n",
      "750/750 [==============================] - 0s 40us/sample - loss: 0.2569 - accuracy: 0.8893\n",
      "Epoch 60/100\n",
      "750/750 [==============================] - 0s 44us/sample - loss: 0.2558 - accuracy: 0.8880\n",
      "Epoch 61/100\n",
      "750/750 [==============================] - 0s 47us/sample - loss: 0.2548 - accuracy: 0.8880\n",
      "Epoch 62/100\n",
      "750/750 [==============================] - 0s 39us/sample - loss: 0.2537 - accuracy: 0.8867\n",
      "Epoch 63/100\n",
      "750/750 [==============================] - 0s 40us/sample - loss: 0.2527 - accuracy: 0.8867\n",
      "Epoch 64/100\n",
      "750/750 [==============================] - 0s 44us/sample - loss: 0.2519 - accuracy: 0.8867\n",
      "Epoch 65/100\n",
      "750/750 [==============================] - 0s 45us/sample - loss: 0.2509 - accuracy: 0.8880\n",
      "Epoch 66/100\n",
      "750/750 [==============================] - 0s 44us/sample - loss: 0.2501 - accuracy: 0.8880\n",
      "Epoch 67/100\n",
      "750/750 [==============================] - 0s 44us/sample - loss: 0.2492 - accuracy: 0.8880\n",
      "Epoch 68/100\n",
      "750/750 [==============================] - 0s 45us/sample - loss: 0.2483 - accuracy: 0.8880\n",
      "Epoch 69/100\n",
      "750/750 [==============================] - 0s 48us/sample - loss: 0.2474 - accuracy: 0.8880\n",
      "Epoch 70/100\n",
      "750/750 [==============================] - 0s 47us/sample - loss: 0.2466 - accuracy: 0.8880\n",
      "Epoch 71/100\n",
      "750/750 [==============================] - 0s 44us/sample - loss: 0.2460 - accuracy: 0.8893\n",
      "Epoch 72/100\n",
      "750/750 [==============================] - 0s 51us/sample - loss: 0.2451 - accuracy: 0.8893\n",
      "Epoch 73/100\n",
      "750/750 [==============================] - 0s 39us/sample - loss: 0.2442 - accuracy: 0.8893\n",
      "Epoch 74/100\n",
      "750/750 [==============================] - 0s 39us/sample - loss: 0.2435 - accuracy: 0.8893\n",
      "Epoch 75/100\n",
      "750/750 [==============================] - 0s 41us/sample - loss: 0.2426 - accuracy: 0.8907\n",
      "Epoch 76/100\n",
      "750/750 [==============================] - 0s 39us/sample - loss: 0.2419 - accuracy: 0.8907\n",
      "Epoch 77/100\n",
      "750/750 [==============================] - 0s 49us/sample - loss: 0.2411 - accuracy: 0.8907\n",
      "Epoch 78/100\n"
     ]
    },
    {
     "name": "stdout",
     "output_type": "stream",
     "text": [
      "750/750 [==============================] - 0s 37us/sample - loss: 0.2404 - accuracy: 0.8907\n",
      "Epoch 79/100\n",
      "750/750 [==============================] - 0s 48us/sample - loss: 0.2396 - accuracy: 0.8933\n",
      "Epoch 80/100\n",
      "750/750 [==============================] - 0s 39us/sample - loss: 0.2389 - accuracy: 0.8920\n",
      "Epoch 81/100\n",
      "750/750 [==============================] - 0s 39us/sample - loss: 0.2382 - accuracy: 0.8920\n",
      "Epoch 82/100\n",
      "750/750 [==============================] - 0s 41us/sample - loss: 0.2375 - accuracy: 0.8933\n",
      "Epoch 83/100\n",
      "750/750 [==============================] - 0s 43us/sample - loss: 0.2368 - accuracy: 0.8933\n",
      "Epoch 84/100\n",
      "750/750 [==============================] - 0s 40us/sample - loss: 0.2360 - accuracy: 0.8933\n",
      "Epoch 85/100\n",
      "750/750 [==============================] - 0s 40us/sample - loss: 0.2353 - accuracy: 0.8933\n",
      "Epoch 86/100\n",
      "750/750 [==============================] - 0s 41us/sample - loss: 0.2345 - accuracy: 0.8933\n",
      "Epoch 87/100\n",
      "750/750 [==============================] - 0s 39us/sample - loss: 0.2338 - accuracy: 0.8933\n",
      "Epoch 88/100\n",
      "750/750 [==============================] - 0s 39us/sample - loss: 0.2331 - accuracy: 0.8947\n",
      "Epoch 89/100\n",
      "750/750 [==============================] - 0s 37us/sample - loss: 0.2324 - accuracy: 0.8960\n",
      "Epoch 90/100\n",
      "750/750 [==============================] - 0s 40us/sample - loss: 0.2317 - accuracy: 0.8960\n",
      "Epoch 91/100\n",
      "750/750 [==============================] - 0s 49us/sample - loss: 0.2309 - accuracy: 0.8960\n",
      "Epoch 92/100\n",
      "750/750 [==============================] - 0s 51us/sample - loss: 0.2303 - accuracy: 0.8960\n",
      "Epoch 93/100\n",
      "750/750 [==============================] - 0s 47us/sample - loss: 0.2295 - accuracy: 0.8960\n",
      "Epoch 94/100\n",
      "750/750 [==============================] - 0s 49us/sample - loss: 0.2288 - accuracy: 0.8973\n",
      "Epoch 95/100\n",
      "750/750 [==============================] - 0s 57us/sample - loss: 0.2281 - accuracy: 0.8973\n",
      "Epoch 96/100\n",
      "750/750 [==============================] - 0s 53us/sample - loss: 0.2273 - accuracy: 0.8973\n",
      "Epoch 97/100\n",
      "750/750 [==============================] - 0s 53us/sample - loss: 0.2265 - accuracy: 0.8987\n",
      "Epoch 98/100\n",
      "750/750 [==============================] - 0s 51us/sample - loss: 0.2257 - accuracy: 0.8987\n",
      "Epoch 99/100\n",
      "750/750 [==============================] - 0s 59us/sample - loss: 0.2251 - accuracy: 0.8987\n",
      "Epoch 100/100\n",
      "750/750 [==============================] - 0s 45us/sample - loss: 0.2243 - accuracy: 0.9000\n"
     ]
    }
   ],
   "source": [
    "# Compile the Sequential model together and customize metrics\n",
    "new_model.compile(loss=\"binary_crossentropy\", optimizer=\"adam\", metrics=[\"accuracy\"])\n",
    "\n",
    "# Fit the model to the training data\n",
    "new_fit_model = new_model.fit(X_moon_train_scaled, y_moon_train, epochs=100, shuffle=True)"
   ]
  },
  {
   "cell_type": "code",
   "execution_count": null,
   "metadata": {},
   "outputs": [],
   "source": []
  }
 ],
 "metadata": {
  "kernelspec": {
   "display_name": "mlenv",
   "language": "python",
   "name": "mlenv"
  },
  "language_info": {
   "codemirror_mode": {
    "name": "ipython",
    "version": 3
   },
   "file_extension": ".py",
   "mimetype": "text/x-python",
   "name": "python",
   "nbconvert_exporter": "python",
   "pygments_lexer": "ipython3",
   "version": "3.7.6"
  }
 },
 "nbformat": 4,
 "nbformat_minor": 4
}
